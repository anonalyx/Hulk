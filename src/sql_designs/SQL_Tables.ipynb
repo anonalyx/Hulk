{
 "cells": [
  {
   "cell_type": "code",
   "execution_count": 116,
   "id": "3c0e9229",
   "metadata": {},
   "outputs": [],
   "source": [
    "import sqlite3"
   ]
  },
  {
   "cell_type": "code",
   "execution_count": 117,
   "id": "abde6f96",
   "metadata": {},
   "outputs": [],
   "source": [
    "def connect(db_filename):\n",
    "    # Adds .db to filename if necessary\n",
    "    if db_filename[-3:] != '.db':\n",
    "        db_filename += '.db'\n",
    "        \n",
    "    conn = sqlite3.connect(db_filename)\n",
    "    c = conn.cursor()\n",
    "    \n",
    "    return conn, c"
   ]
  },
  {
   "cell_type": "code",
   "execution_count": 118,
   "id": "82fba6b1",
   "metadata": {},
   "outputs": [],
   "source": [
    "def create(table, categories):\n",
    "    command = \"CREATE TABLE IF NOT EXISTS \"\n",
    "    command += table\n",
    "    command += \" (\\n\"\n",
    "    \n",
    "    for attribute, datatype in categories.items():\n",
    "        command += attribute\n",
    "        command += \" \"\n",
    "        \n",
    "        command += datatype\n",
    "        command += \",\\n\"\n",
    "    \n",
    "    command = command[:-2]\n",
    "    command += \");\"\n",
    "    \n",
    "    print(command)\n",
    "    c.execute(command)"
   ]
  },
  {
   "cell_type": "code",
   "execution_count": 119,
   "id": "37c35709",
   "metadata": {},
   "outputs": [],
   "source": [
    "def insert(value, table):\n",
    "    command = \"INSERT INTO \" + table + \" VALUES (\"\n",
    "    \n",
    "    col_count = c.execute(\n",
    "        \"SELECT count() FROM PRAGMA_TABLE_INFO('\" + table + \"');\"\n",
    "    )\n",
    "    \n",
    "    col_count = col_count.fetchall()\n",
    "    col_count = col_count[0][0]\n",
    "    \n",
    "    for i in range(col_count - 1):\n",
    "        command += \"?, \"\n",
    "    \n",
    "    command += \"?);\"\n",
    "    #print(command)\n",
    "    \n",
    "    c.execute(command, value)\n",
    "    conn.commit()"
   ]
  },
  {
   "cell_type": "code",
   "execution_count": 120,
   "id": "cedf360a",
   "metadata": {},
   "outputs": [],
   "source": [
    "def drop(table):\n",
    "    command = \"DROP TABLE IF EXISTS \" + table\n",
    "    c.execute(command)"
   ]
  },
  {
   "cell_type": "code",
   "execution_count": 121,
   "id": "74fd9a13",
   "metadata": {},
   "outputs": [],
   "source": [
    "def drop_all():\n",
    "    c.execute(\"SELECT name FROM sqlite_master WHERE type='table';\")\n",
    "\n",
    "    for table in c.fetchall():\n",
    "        drop(table[0])"
   ]
  },
  {
   "cell_type": "code",
   "execution_count": 122,
   "id": "89a9d7b1",
   "metadata": {},
   "outputs": [],
   "source": [
    "def print_database():\n",
    "    c.execute(\"SELECT name FROM sqlite_master WHERE type='table';\")\n",
    "    print (\"Tables:\")\n",
    "    \n",
    "    for t in c.fetchall() :\n",
    "        print (\"\\t[%s]\"%t[0])\n",
    "        print (\"\\tColumns of\", t[0])\n",
    "        c.execute(\"PRAGMA table_info(%s);\"%t[0])\n",
    "        \n",
    "        for attr in c.fetchall() :\n",
    "            print (\"\\t\\t\", attr)\n",
    "            \n",
    "        print()"
   ]
  },
  {
   "cell_type": "code",
   "execution_count": 123,
   "id": "451ccb4e",
   "metadata": {},
   "outputs": [],
   "source": [
    "def print_table(table):\n",
    "    data = c.execute(\"SELECT * FROM \" + table)\n",
    "\n",
    "    for row in data:\n",
    "        print(row)"
   ]
  },
  {
   "cell_type": "code",
   "execution_count": 124,
   "id": "10288f43",
   "metadata": {},
   "outputs": [],
   "source": [
    "db_filename = \"test_tables\"\n",
    "conn, c = connect(db_filename)"
   ]
  },
  {
   "cell_type": "code",
   "execution_count": 125,
   "id": "019992d4",
   "metadata": {},
   "outputs": [
    {
     "name": "stdout",
     "output_type": "stream",
     "text": [
      "CREATE TABLE IF NOT EXISTS body_part (\n",
      "part_id INT,\n",
      "part_name VARCHAR(30),\n",
      "calories INT);\n"
     ]
    }
   ],
   "source": [
    "table = \"body_part\"\n",
    "\n",
    "categories = {\n",
    "    \"part_id\": \"INT\",\n",
    "    \"part_name\": \"VARCHAR(30)\",\n",
    "    \"calories\": \"INT\"\n",
    "}\n",
    "\n",
    "create(table, categories)"
   ]
  },
  {
   "cell_type": "code",
   "execution_count": 126,
   "id": "4b48061d",
   "metadata": {},
   "outputs": [
    {
     "name": "stdout",
     "output_type": "stream",
     "text": [
      "CREATE TABLE IF NOT EXISTS equipment (\n",
      "equipment_id INT,\n",
      "equipment_name VARCHAR(30));\n"
     ]
    }
   ],
   "source": [
    "table = \"equipment\"\n",
    "\n",
    "categories = {\n",
    "    \"equipment_id\": \"INT\",\n",
    "    \"equipment_name\": \"VARCHAR(30)\"\n",
    "}\n",
    "\n",
    "create(table, categories)"
   ]
  },
  {
   "cell_type": "code",
   "execution_count": 127,
   "id": "2a61a4bf",
   "metadata": {},
   "outputs": [
    {
     "name": "stdout",
     "output_type": "stream",
     "text": [
      "CREATE TABLE IF NOT EXISTS exercise (\n",
      "exercise_id INT,\n",
      "exercise_name VARCHAR(30),\n",
      "exercise_description VARCHAR(1000),\n",
      "exercise_body_part VARCHAR(30),\n",
      "exercise_equipment VARCHAR(30));\n"
     ]
    }
   ],
   "source": [
    "table = \"exercise\"\n",
    "\n",
    "categories = {\n",
    "    \"exercise_id\": \"INT\",\n",
    "    \"exercise_name\": \"VARCHAR(30)\",\n",
    "    \"exercise_description\": \"VARCHAR(1000)\",\n",
    "    \"exercise_body_part\": \"VARCHAR(30)\",\n",
    "    \"exercise_equipment\": \"VARCHAR(30)\"\n",
    "}\n",
    "\n",
    "create(table, categories)"
   ]
  },
  {
   "cell_type": "code",
   "execution_count": 128,
   "id": "9baa7d28",
   "metadata": {},
   "outputs": [
    {
     "name": "stdout",
     "output_type": "stream",
     "text": [
      "CREATE TABLE IF NOT EXISTS account (\n",
      "account_id INT,\n",
      "username VARCHAR(15),\n",
      "email VARCHAR(320));\n"
     ]
    }
   ],
   "source": [
    "table = \"account\"\n",
    "\n",
    "categories = {\n",
    "    \"account_id\": \"INT\",\n",
    "    \"username\": \"VARCHAR(15)\",\n",
    "    \"email\": \"VARCHAR(320)\"\n",
    "}\n",
    "\n",
    "create(table, categories)"
   ]
  },
  {
   "cell_type": "code",
   "execution_count": 129,
   "id": "59aa7ac4",
   "metadata": {},
   "outputs": [
    {
     "name": "stdout",
     "output_type": "stream",
     "text": [
      "CREATE TABLE IF NOT EXISTS favorite (\n",
      "favorite_id INT,\n",
      "favorite_user VARCHAR(15),\n",
      "favorite_exercise VARCHAR(30));\n"
     ]
    }
   ],
   "source": [
    "table = \"favorite\"\n",
    "\n",
    "categories = {\n",
    "    \"favorite_id\": \"INT\",\n",
    "    \"favorite_user\": \"VARCHAR(15)\",\n",
    "    \"favorite_exercise\": \"VARCHAR(30)\"\n",
    "}\n",
    "\n",
    "create(table, categories)"
   ]
  },
  {
   "cell_type": "code",
   "execution_count": 130,
   "id": "e1605bd8",
   "metadata": {},
   "outputs": [
    {
     "name": "stdout",
     "output_type": "stream",
     "text": [
      "Tables:\n",
      "\t[body_part]\n",
      "\tColumns of body_part\n",
      "\t\t (0, 'part_id', 'INT', 0, None, 0)\n",
      "\t\t (1, 'part_name', 'VARCHAR(30)', 0, None, 0)\n",
      "\t\t (2, 'calories', 'INT', 0, None, 0)\n",
      "\n",
      "\t[equipment]\n",
      "\tColumns of equipment\n",
      "\t\t (0, 'equipment_id', 'INT', 0, None, 0)\n",
      "\t\t (1, 'equipment_name', 'VARCHAR(30)', 0, None, 0)\n",
      "\n",
      "\t[exercise]\n",
      "\tColumns of exercise\n",
      "\t\t (0, 'exercise_id', 'INT', 0, None, 0)\n",
      "\t\t (1, 'exercise_name', 'VARCHAR(30)', 0, None, 0)\n",
      "\t\t (2, 'exercise_description', 'VARCHAR(1000)', 0, None, 0)\n",
      "\t\t (3, 'exercise_body_part', 'VARCHAR(30)', 0, None, 0)\n",
      "\t\t (4, 'exercise_equipment', 'VARCHAR(30)', 0, None, 0)\n",
      "\n",
      "\t[account]\n",
      "\tColumns of account\n",
      "\t\t (0, 'account_id', 'INT', 0, None, 0)\n",
      "\t\t (1, 'username', 'VARCHAR(15)', 0, None, 0)\n",
      "\t\t (2, 'email', 'VARCHAR(320)', 0, None, 0)\n",
      "\n",
      "\t[favorite]\n",
      "\tColumns of favorite\n",
      "\t\t (0, 'favorite_id', 'INT', 0, None, 0)\n",
      "\t\t (1, 'favorite_user', 'VARCHAR(15)', 0, None, 0)\n",
      "\t\t (2, 'favorite_exercise', 'VARCHAR(30)', 0, None, 0)\n",
      "\n"
     ]
    }
   ],
   "source": [
    "print_database()"
   ]
  },
  {
   "cell_type": "code",
   "execution_count": 131,
   "id": "abc57e4d",
   "metadata": {},
   "outputs": [],
   "source": [
    "insertions = {\n",
    "    \"body_part\": [\n",
    "        (0, \"Arms\", \"Bicep Curl\"),\n",
    "        (1, \"Back\", \"Rows\"),\n",
    "        (2, \"Legs\", \"Squats\"),\n",
    "        (3, \"Abs\", \"Sit-Ups\"),\n",
    "        (4, \"Cardio\", \"Running\")\n",
    "    ],\n",
    "    \n",
    "    \"equipment\": [\n",
    "        (0, \"Dumbells\"),\n",
    "        (1, \"Dumbells\"),\n",
    "        (2, \"Single Dumbell\"),\n",
    "        (3, \"Body Weight\"),\n",
    "        (4, \"Body Weight\")\n",
    "    ],\n",
    "    \n",
    "    \"exercise\": [\n",
    "        (0, \"Bicep Curl\", \"Curls dumbbells from a standing position\", \n",
    "         \"Arms\", \"Dumbells\"),\n",
    "        \n",
    "        (1, \"Rows\", \"Pulls dumbbells towards the chest while bending over\", \n",
    "         \"Back\", \"Dumbells\"),\n",
    "        \n",
    "        (2, \"Squats\", \"Lowers body by bending at the hips and knees\", \n",
    "         \"Legs\", \"Body Weight\"),\n",
    "        \n",
    "        (3, \"Sit-Ups\", \n",
    "         \"Lifts upper body towards knees while lying on the ground\", \n",
    "         \"Abs\", \"Body Weight\"),\n",
    "        \n",
    "        (4, \"Running\", \"Fast-paced movement using legs and feet\", \n",
    "         \"Cardio\", \"None\")\n",
    "    ],\n",
    "    \n",
    "    \"account\": [\n",
    "        (0, \"user1\", \"user1@example.com\"),\n",
    "        (1, \"user2\", \"user2@example.com\"),\n",
    "        (2, \"user3\", \"user3@example.com\")\n",
    "    ],\n",
    "    \n",
    "    \"favorite\": [\n",
    "        (0, \"user1\", \"Bicep Curl\"),\n",
    "        (1, \"user2\", \"Rows\"),\n",
    "        (2, \"user3\", \"Squats\")\n",
    "    ]\n",
    "}\n",
    "\n",
    "#insertions"
   ]
  },
  {
   "cell_type": "code",
   "execution_count": 132,
   "id": "42f83f10",
   "metadata": {},
   "outputs": [
    {
     "name": "stdout",
     "output_type": "stream",
     "text": [
      "body_part\n",
      "(0, 'Arms', 'Bicep Curl')\n",
      "(1, 'Back', 'Rows')\n",
      "(2, 'Legs', 'Squats')\n",
      "(3, 'Abs', 'Sit-Ups')\n",
      "(4, 'Cardio', 'Running')\n",
      "\n",
      "equipment\n",
      "(0, 'Dumbells')\n",
      "(1, 'Dumbells')\n",
      "(2, 'Single Dumbell')\n",
      "(3, 'Body Weight')\n",
      "(4, 'Body Weight')\n",
      "\n",
      "exercise\n",
      "(0, 'Bicep Curl', 'Curls dumbbells from a standing position', 'Arms', 'Dumbells')\n",
      "(1, 'Rows', 'Pulls dumbbells towards the chest while bending over', 'Back', 'Dumbells')\n",
      "(2, 'Squats', 'Lowers body by bending at the hips and knees', 'Legs', 'Body Weight')\n",
      "(3, 'Sit-Ups', 'Lifts upper body towards knees while lying on the ground', 'Abs', 'Body Weight')\n",
      "(4, 'Running', 'Fast-paced movement using legs and feet', 'Cardio', 'None')\n",
      "\n",
      "account\n",
      "(0, 'user1', 'user1@example.com')\n",
      "(1, 'user2', 'user2@example.com')\n",
      "(2, 'user3', 'user3@example.com')\n",
      "\n",
      "favorite\n",
      "(0, 'user1', 'Bicep Curl')\n",
      "(1, 'user2', 'Rows')\n",
      "(2, 'user3', 'Squats')\n",
      "\n"
     ]
    }
   ],
   "source": [
    "for table, value_list in insertions.items():\n",
    "    for value in value_list:\n",
    "        insert(value, table)\n",
    "        \n",
    "    print(table)\n",
    "    print_table(table)\n",
    "    print()"
   ]
  },
  {
   "cell_type": "code",
   "execution_count": 133,
   "id": "4819dfec",
   "metadata": {},
   "outputs": [],
   "source": [
    "drop_all()"
   ]
  },
  {
   "cell_type": "code",
   "execution_count": null,
   "id": "3b757ae6-7f1f-42af-8b2c-754d5d58153d",
   "metadata": {},
   "outputs": [],
   "source": []
  }
 ],
 "metadata": {
  "kernelspec": {
   "display_name": "Python 3 (ipykernel)",
   "language": "python",
   "name": "python3"
  },
  "language_info": {
   "codemirror_mode": {
    "name": "ipython",
    "version": 3
   },
   "file_extension": ".py",
   "mimetype": "text/x-python",
   "name": "python",
   "nbconvert_exporter": "python",
   "pygments_lexer": "ipython3",
   "version": "3.8.8"
  },
  "vscode": {
   "interpreter": {
    "hash": "6e93a7bf16dad724e9b533074f97374079089ade205400accb23467a48c65ec2"
   }
  }
 },
 "nbformat": 4,
 "nbformat_minor": 5
}
